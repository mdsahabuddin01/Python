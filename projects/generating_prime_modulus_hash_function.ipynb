{
  "nbformat": 4,
  "nbformat_minor": 0,
  "metadata": {
    "colab": {
      "provenance": [],
      "authorship_tag": "ABX9TyMEs1+LL8tLlKIqAPVkuv+I",
      "include_colab_link": true
    },
    "kernelspec": {
      "name": "python3",
      "display_name": "Python 3"
    },
    "language_info": {
      "name": "python"
    }
  },
  "cells": [
    {
      "cell_type": "markdown",
      "metadata": {
        "id": "view-in-github",
        "colab_type": "text"
      },
      "source": [
        "<a href=\"https://colab.research.google.com/github/mdsahabuddin01/Python/blob/main/projects/generating_prime_modulus_hash_function.ipynb\" target=\"_parent\"><img src=\"https://colab.research.google.com/assets/colab-badge.svg\" alt=\"Open In Colab\"/></a>"
      ]
    },
    {
      "cell_type": "markdown",
      "source": [
        "**I'm trying to implement a hashing function that utilizes the Sieve of Atkins to generate a prime modulus which is then used in polynomial rolling of string keys. Please send a script example of how to implement this hash function in python.**"
      ],
      "metadata": {
        "id": "ZNx8FWRpKdFM"
      }
    },
    {
      "cell_type": "markdown",
      "source": [
        "### 1. **Hashing Function**  \n",
        "A **hashing function** is an algorithm that takes an input (or key) and produces a fixed-size string or number (hash value). Hashing functions are commonly used in:  \n",
        "- **Data structures** (e.g., hash tables, dictionaries)  \n",
        "- **Cryptography** (e.g., SHA-256 for security)  \n",
        "- **Checksums and integrity verification**  \n",
        "- **Indexing in databases**  \n",
        "\n",
        "A good hashing function ensures that different inputs produce different hash values with minimal collisions.\n",
        "\n",
        "---\n",
        "\n",
        "### 2. **Sieve of Atkin**  \n",
        "The **Sieve of Atkin** is an optimized algorithm for finding all prime numbers up to a given limit. It is more efficient than the **Sieve of Eratosthenes** for large values.  \n",
        "It works by:  \n",
        "- Using modular arithmetic to eliminate non-prime numbers efficiently  \n",
        "- Reducing the number of required iterations compared to older sieve algorithms  \n",
        "\n",
        "It is useful when you need to quickly generate a large prime number for cryptography or hashing.\n",
        "\n",
        "---\n",
        "\n",
        "### 3. **Prime Modulus**  \n",
        "A **prime modulus** is a prime number used in modular arithmetic operations. In hashing, it helps to:  \n",
        "- Reduce hash collisions  \n",
        "- Ensure a uniform distribution of hash values  \n",
        "- Work efficiently in polynomial rolling hash functions  \n",
        "\n",
        "Common prime modulus values are **large prime numbers** like $10^9 + 7(1000000007)$, which are frequently used in **hashing, cryptography, and numerical computations**.\n",
        "\n",
        "---\n",
        "\n",
        "### 4. **Polynomial Rolling Hashing (for String Keys)**  \n",
        "Polynomial rolling hashing is a technique used to compute a hash for a string. The formula is:\n",
        "\n",
        "\n",
        "$H(s) = (s_0 \\cdot p^0 + s_1 \\cdot p^1 + s_2 \\cdot p^2 + \\dots + s_{n-1} \\cdot p^{n-1}) \\mod m$\n",
        "\n",
        "\n",
        "where:  \n",
        "- \\( s_i \\) is the ASCII value of the character at position \\( i \\)  \n",
        "- \\( p \\) is a prime number (commonly **31** or **37**)  \n",
        "- \\( m \\) is a **prime modulus**  \n",
        "- \\( n \\) is the length of the string  \n",
        "\n",
        "### **Where is it used?**  \n",
        "- **String pattern matching** (e.g., Rabin-Karp algorithm)  \n",
        "- **Fast substring search in texts**  \n",
        "- **Building hash functions for dictionaries and hash tables**  \n",
        "- **Comparing large text documents efficiently**  \n",
        "\n",
        "Would you like me to implement this hashing function in Python using the **Sieve of Atkin** and **Polynomial Rolling Hash**?"
      ],
      "metadata": {
        "id": "itZAdTPjNFOa"
      }
    },
    {
      "cell_type": "code",
      "execution_count": 1,
      "metadata": {
        "id": "xvdqusaZKBKu"
      },
      "outputs": [],
      "source": [
        "#```python\n",
        "\n",
        "def sieve(limit):\n",
        "\n",
        "    if limit < 2:\n",
        "\n",
        "        return []\n",
        "\n",
        "    if limit == 2:\n",
        "\n",
        "        return [False, True]\n",
        "\n",
        "    if limit == 3:\n",
        "\n",
        "        return [False, True, True]\n",
        "\n",
        "\n",
        "\n",
        "    res = [False]\n",
        "\n",
        "    if limit >= 2:\n",
        "\n",
        "        res[2] = True\n",
        "\n",
        "    if limit >= 3:\n",
        "\n",
        "        res[3] = True\n",
        "\n",
        "\n",
        "\n",
        "    for i in range(4, limit + 1):\n",
        "\n",
        "        res[i] = False\n",
        "\n",
        "\n",
        "\n",
        "    i = 1\n",
        "\n",
        "    while i <= limit:\n",
        "\n",
        "        j = 1\n",
        "\n",
        "        while j <= limit:\n",
        "\n",
        "\n",
        "\n",
        "            n = (4 * i * i) + (j * j)\n",
        "\n",
        "            if (n <= limit and (n % 12 == 1 or\n",
        "\n",
        "                                n % 12 == 5)):\n",
        "\n",
        "                res[n] ^= True\n",
        "\n",
        "\n",
        "\n",
        "            n = (3 * i * i) + (j * j)\n",
        "\n",
        "            if n <= limit and n % 12 == 7:\n",
        "\n",
        "                res[n] ^= True\n",
        "\n",
        "\n",
        "\n",
        "            n = (3 * i * i) - (j * j)\n",
        "\n",
        "            if (i > j and n <= limit and\n",
        "\n",
        "                    n % 12 == 11):\n",
        "\n",
        "                res[n] ^= True\n",
        "\n",
        "            j += 1\n",
        "\n",
        "        i += 1\n",
        "\n",
        "\n",
        "\n",
        "    r = 5\n",
        "\n",
        "    while r * r <= limit:\n",
        "\n",
        "        if res[r]:\n",
        "\n",
        "            for i in range(r * r, limit + 1, r * r):\n",
        "\n",
        "                res[i] = False\n",
        "\n",
        "\n",
        "\n",
        "        r += 1\n",
        "\n",
        "    return res"
      ]
    },
    {
      "cell_type": "code",
      "source": [
        "def pick_prime(primes, min_size=1000):\n",
        "\n",
        "    \"\"\"returns a suitable prime to use as modulus\"\"\"\n",
        "\n",
        "    for prime in primes:\n",
        "\n",
        "        if prime >= min_size:\n",
        "\n",
        "            return prime\n",
        "\n",
        "    # if no prime large enough exists, use last one on list\n",
        "\n",
        "    return primes[-1]"
      ],
      "metadata": {
        "id": "3iHCXySyOqOi"
      },
      "execution_count": 2,
      "outputs": []
    },
    {
      "cell_type": "code",
      "source": [
        "def hash(string, modulus):\n",
        "\n",
        "    \"\"\"implements polynomial rolling of string keys\"\"\"\n",
        "\n",
        "    hash_value = 5381\n",
        "\n",
        "    for char in string:\n",
        "\n",
        "        # hash = 33 XOR ord(c)\n",
        "\n",
        "        hash_value = ((hash_value << 5) + hash_value) ^ ord(char)\n",
        "\n",
        "    return hash_value % modulus"
      ],
      "metadata": {
        "id": "OQCyljntOtNO"
      },
      "execution_count": 3,
      "outputs": []
    },
    {
      "cell_type": "code",
      "source": [
        "if __name__ == '__main__':\n",
        "\n",
        "    # generate primes list to use as modulus\n",
        "\n",
        "    primes = sieve(10000) # modify limit based on your needs\n",
        "\n",
        "\n",
        "\n",
        "    modulus = pick_prime(primes, 1000)\n",
        "\n",
        "\n",
        "\n",
        "    test_array = [\"alpha\",\"beta\",\"gamma\",\"delta\",\"epsilon\"]\n",
        "\n",
        "\n",
        "\n",
        "    for string in test_array:\n",
        "\n",
        "        hash_value = hash(string, modulus)\n",
        "\n",
        "        print(f\"Hash of {string} is {hash_value}\")"
      ],
      "metadata": {
        "colab": {
          "base_uri": "https://localhost:8080/",
          "height": 332
        },
        "id": "WR65d3tpOvJi",
        "outputId": "9392843b-bc53-490d-93ee-795113cdbbc1"
      },
      "execution_count": 4,
      "outputs": [
        {
          "output_type": "error",
          "ename": "IndexError",
          "evalue": "list assignment index out of range",
          "traceback": [
            "\u001b[0;31m---------------------------------------------------------------------------\u001b[0m",
            "\u001b[0;31mIndexError\u001b[0m                                Traceback (most recent call last)",
            "\u001b[0;32m<ipython-input-4-2f645fc73321>\u001b[0m in \u001b[0;36m<cell line: 0>\u001b[0;34m()\u001b[0m\n\u001b[1;32m      3\u001b[0m     \u001b[0;31m# generate primes list to use as modulus\u001b[0m\u001b[0;34m\u001b[0m\u001b[0;34m\u001b[0m\u001b[0m\n\u001b[1;32m      4\u001b[0m \u001b[0;34m\u001b[0m\u001b[0m\n\u001b[0;32m----> 5\u001b[0;31m     \u001b[0mprimes\u001b[0m \u001b[0;34m=\u001b[0m \u001b[0msieve\u001b[0m\u001b[0;34m(\u001b[0m\u001b[0;36m10000\u001b[0m\u001b[0;34m)\u001b[0m \u001b[0;31m# modify limit based on your needs\u001b[0m\u001b[0;34m\u001b[0m\u001b[0;34m\u001b[0m\u001b[0m\n\u001b[0m\u001b[1;32m      6\u001b[0m \u001b[0;34m\u001b[0m\u001b[0m\n\u001b[1;32m      7\u001b[0m \u001b[0;34m\u001b[0m\u001b[0m\n",
            "\u001b[0;32m<ipython-input-1-2148d10e39ea>\u001b[0m in \u001b[0;36msieve\u001b[0;34m(limit)\u001b[0m\n\u001b[1;32m     21\u001b[0m     \u001b[0;32mif\u001b[0m \u001b[0mlimit\u001b[0m \u001b[0;34m>=\u001b[0m \u001b[0;36m2\u001b[0m\u001b[0;34m:\u001b[0m\u001b[0;34m\u001b[0m\u001b[0;34m\u001b[0m\u001b[0m\n\u001b[1;32m     22\u001b[0m \u001b[0;34m\u001b[0m\u001b[0m\n\u001b[0;32m---> 23\u001b[0;31m         \u001b[0mres\u001b[0m\u001b[0;34m[\u001b[0m\u001b[0;36m2\u001b[0m\u001b[0;34m]\u001b[0m \u001b[0;34m=\u001b[0m \u001b[0;32mTrue\u001b[0m\u001b[0;34m\u001b[0m\u001b[0;34m\u001b[0m\u001b[0m\n\u001b[0m\u001b[1;32m     24\u001b[0m \u001b[0;34m\u001b[0m\u001b[0m\n\u001b[1;32m     25\u001b[0m     \u001b[0;32mif\u001b[0m \u001b[0mlimit\u001b[0m \u001b[0;34m>=\u001b[0m \u001b[0;36m3\u001b[0m\u001b[0;34m:\u001b[0m\u001b[0;34m\u001b[0m\u001b[0;34m\u001b[0m\u001b[0m\n",
            "\u001b[0;31mIndexError\u001b[0m: list assignment index out of range"
          ]
        }
      ]
    },
    {
      "cell_type": "markdown",
      "source": [
        "Sieve of Atkin – Generates a list of prime numbers efficiently.\n",
        "\n",
        "Pick a Suitable Prime – Selects a prime number to be used as the modulus.\n",
        "\n",
        "Polynomial Rolling Hash Function – Implements hashing with a rolling polynomial formula.\n"
      ],
      "metadata": {
        "id": "G2L2Ov3YRZ8-"
      }
    },
    {
      "cell_type": "code",
      "source": [],
      "metadata": {
        "colab": {
          "base_uri": "https://localhost:8080/",
          "height": 332
        },
        "id": "JzUrgISCPq6b",
        "outputId": "5ec08232-0b44-4b24-ef26-7ff37325356a"
      },
      "execution_count": 5,
      "outputs": [
        {
          "output_type": "error",
          "ename": "IndexError",
          "evalue": "list assignment index out of range",
          "traceback": [
            "\u001b[0;31m---------------------------------------------------------------------------\u001b[0m",
            "\u001b[0;31mIndexError\u001b[0m                                Traceback (most recent call last)",
            "\u001b[0;32m<ipython-input-5-ecdeb14ec8d4>\u001b[0m in \u001b[0;36m<cell line: 0>\u001b[0;34m()\u001b[0m\n\u001b[1;32m    129\u001b[0m     \u001b[0;31m# generate primes list to use as modulus\u001b[0m\u001b[0;34m\u001b[0m\u001b[0;34m\u001b[0m\u001b[0m\n\u001b[1;32m    130\u001b[0m \u001b[0;34m\u001b[0m\u001b[0m\n\u001b[0;32m--> 131\u001b[0;31m     \u001b[0mprimes\u001b[0m \u001b[0;34m=\u001b[0m \u001b[0msieve\u001b[0m\u001b[0;34m(\u001b[0m\u001b[0;36m10000\u001b[0m\u001b[0;34m)\u001b[0m \u001b[0;31m# modify limit based on your needs\u001b[0m\u001b[0;34m\u001b[0m\u001b[0;34m\u001b[0m\u001b[0m\n\u001b[0m\u001b[1;32m    132\u001b[0m \u001b[0;34m\u001b[0m\u001b[0m\n\u001b[1;32m    133\u001b[0m \u001b[0;34m\u001b[0m\u001b[0m\n",
            "\u001b[0;32m<ipython-input-5-ecdeb14ec8d4>\u001b[0m in \u001b[0;36msieve\u001b[0;34m(limit)\u001b[0m\n\u001b[1;32m     19\u001b[0m     \u001b[0;32mif\u001b[0m \u001b[0mlimit\u001b[0m \u001b[0;34m>=\u001b[0m \u001b[0;36m2\u001b[0m\u001b[0;34m:\u001b[0m\u001b[0;34m\u001b[0m\u001b[0;34m\u001b[0m\u001b[0m\n\u001b[1;32m     20\u001b[0m \u001b[0;34m\u001b[0m\u001b[0m\n\u001b[0;32m---> 21\u001b[0;31m         \u001b[0mres\u001b[0m\u001b[0;34m[\u001b[0m\u001b[0;36m2\u001b[0m\u001b[0;34m]\u001b[0m \u001b[0;34m=\u001b[0m \u001b[0;32mTrue\u001b[0m\u001b[0;34m\u001b[0m\u001b[0;34m\u001b[0m\u001b[0m\n\u001b[0m\u001b[1;32m     22\u001b[0m \u001b[0;34m\u001b[0m\u001b[0m\n\u001b[1;32m     23\u001b[0m     \u001b[0;32mif\u001b[0m \u001b[0mlimit\u001b[0m \u001b[0;34m>=\u001b[0m \u001b[0;36m3\u001b[0m\u001b[0;34m:\u001b[0m\u001b[0;34m\u001b[0m\u001b[0;34m\u001b[0m\u001b[0m\n",
            "\u001b[0;31mIndexError\u001b[0m: list assignment index out of range"
          ]
        }
      ]
    },
    {
      "cell_type": "code",
      "source": [
        "def sieve(limit):\n",
        "    \"\"\"Generates a list of prime numbers using the Sieve of Atkin.\"\"\"\n",
        "\n",
        "    if limit < 2:  # If the limit is less than 2, there are no primes\n",
        "        return []  # So we return an empty list\n",
        "\n",
        "    res = [False] * (limit + 1)  # Make a list to mark primes, all start as False\n",
        "    res[2] = res[3] = True  # We know 2 and 3 are prime, so we set them to True\n",
        "\n",
        "    for x in range(1, int(limit ** 0.5) + 1):  # Loop for x values up to square root of limit\n",
        "        for y in range(1, int(limit ** 0.5) + 1):  # Loop for y values up to square root of limit\n",
        "            n = (4 * x * x) + (y * y)  # Compute n using first formula\n",
        "            if n <= limit and (n % 12 == 1 or n % 12 == 5):  # Check if n satisfies conditions\n",
        "                res[n] ^= True  # Toggle (flip) the value\n",
        "\n",
        "            n = (3 * x * x) + (y * y)  # Compute n using second formula\n",
        "            if n <= limit and n % 12 == 7:  # Check condition\n",
        "                res[n] ^= True  # Toggle the value\n",
        "\n",
        "            n = (3 * x * x) - (y * y)  # Compute n using third formula\n",
        "            if x > y and n <= limit and n % 12 == 11:  # Check conditions\n",
        "                res[n] ^= True  # Toggle the value\n",
        "\n",
        "    r = 5  # Start checking from number 5\n",
        "    while r * r <= limit:  # Loop until r squared is bigger than limit\n",
        "        if res[r]:  # If r is marked as prime\n",
        "            for i in range(r * r, limit + 1, r * r):  # Mark all multiples of r^2 as not prime\n",
        "                res[i] = False  # Set them to False\n",
        "        r += 1  # Move to next number\n",
        "\n",
        "    return [num for num, is_prime in enumerate(res) if is_prime]  # Make a list of numbers that are prime\n",
        "\n",
        "\n",
        "def pick_prime(primes, min_size=1000):\n",
        "    \"\"\"Returns a suitable prime to use as modulus.\"\"\"\n",
        "\n",
        "    for prime in primes:  # Go through the list of primes\n",
        "        if prime >= min_size:  # If the prime is big enough\n",
        "            return prime  # Return it\n",
        "\n",
        "    return primes[-1] if primes else None  # If no big enough prime, return the last one or None\n",
        "\n",
        "\n",
        "def hash(string, modulus):\n",
        "    \"\"\"Implements polynomial rolling of string keys.\"\"\"\n",
        "\n",
        "    hash_value = 0  # Start hash value at 0\n",
        "    base = 31  # Choose a prime number as base for rolling hash\n",
        "    power = 1  # Start power at 1 (which is base^0)\n",
        "\n",
        "    for char in string:  # Go through each letter in the string\n",
        "        hash_value = (hash_value + (ord(char) * power)) % modulus  # Compute hash using rolling formula\n",
        "        power = (power * base) % modulus  # Update power for next letter\n",
        "\n",
        "    return hash_value  # Return the final hash value\n",
        "\n",
        "\n",
        "if __name__ == '__main__':\n",
        "    # Generate primes list to use as modulus\n",
        "    primes = sieve(10000)  # Find all primes up to 10,000\n",
        "\n",
        "    modulus = pick_prime(primes, 1000)  # Pick a prime number to use as modulus\n",
        "\n",
        "    test_array = [\"alpha\", \"beta\", \"gamma\", \"delta\", \"epsilon\"]  # List of test strings\n",
        "\n",
        "    for string in test_array:  # Loop through each test string\n",
        "        hash_value = hash(string, modulus)  # Compute hash value\n",
        "        print(f\"Hash of {string} is {hash_value}\")  # Print the result\n"
      ],
      "metadata": {
        "colab": {
          "base_uri": "https://localhost:8080/"
        },
        "id": "izzt2GMJPwy0",
        "outputId": "181cad64-1792-4d49-8d27-1ff0505b955b"
      },
      "execution_count": 7,
      "outputs": [
        {
          "output_type": "stream",
          "name": "stdout",
          "text": [
            "Hash of alpha is 211\n",
            "Hash of beta is 639\n",
            "Hash of gamma is 652\n",
            "Hash of delta is 495\n",
            "Hash of epsilon is 579\n"
          ]
        }
      ]
    }
  ]
}