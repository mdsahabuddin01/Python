{
  "nbformat": 4,
  "nbformat_minor": 0,
  "metadata": {
    "colab": {
      "provenance": [],
      "authorship_tag": "ABX9TyOwxqiyNFL1yaimMdvy4lFZ",
      "include_colab_link": true
    },
    "kernelspec": {
      "name": "python3",
      "display_name": "Python 3"
    },
    "language_info": {
      "name": "python"
    }
  },
  "cells": [
    {
      "cell_type": "markdown",
      "metadata": {
        "id": "view-in-github",
        "colab_type": "text"
      },
      "source": [
        "<a href=\"https://colab.research.google.com/github/mdsahabuddin01/Python/blob/main/projects/Hopper_RHLF_project.ipynb\" target=\"_parent\"><img src=\"https://colab.research.google.com/assets/colab-badge.svg\" alt=\"Open In Colab\"/></a>"
      ]
    },
    {
      "cell_type": "code",
      "execution_count": null,
      "metadata": {
        "id": "yWy7sxws_JuZ"
      },
      "outputs": [],
      "source": []
    },
    {
      "cell_type": "code",
      "source": [
        "import pandas as pd"
      ],
      "metadata": {
        "id": "ZkGoDmpE_R8y"
      },
      "execution_count": 9,
      "outputs": []
    },
    {
      "cell_type": "code",
      "source": [
        "class User:\n",
        "\n",
        "    def __init__(self, user_id, username, password, failed_attempts=0, is_locked=False):\n",
        "\n",
        "        self.user_id = user_id\n",
        "\n",
        "        self.username = username\n",
        "\n",
        "        self.password = password\n",
        "\n",
        "        self.failed_attempts = failed_attempts\n",
        "\n",
        "        self.is_locked = is_locked\n",
        "\n",
        "\n",
        "\n",
        "    def reset_failed_attempts(self):\n",
        "\n",
        "        self.failed_attempts = 0\n",
        "\n",
        "        print(f\"Failed attempts reset for user {self.username}.\")\n",
        "\n",
        "\n",
        "\n",
        "    def increment_failed_attempts(self):\n",
        "\n",
        "        self.failed_attempts += 1\n",
        "\n",
        "        print(f\"Failed attempts for {self.username}: {self.failed_attempts}\")\n",
        "\n",
        "        if self.failed_attempts >= 3:\n",
        "\n",
        "            self.lock_account()\n",
        "\n",
        "\n",
        "\n",
        "    def lock_account(self):\n",
        "\n",
        "        self.is_locked = True\n",
        "\n",
        "        print(f\"Account for {self.username} has been locked due to too many failed login attempts.\")"
      ],
      "metadata": {
        "id": "X9hiRB0a_Pyj"
      },
      "execution_count": 10,
      "outputs": []
    },
    {
      "cell_type": "code",
      "source": [
        "class AuthenticationSystem:\n",
        "\n",
        "    def __init__(self):\n",
        "\n",
        "        self.users = pd.DataFrame(columns=[\"user_id\", \"username\", \"password\", \"failed_attempts_left\", \"is_locked\"])\n",
        "\n",
        "\n",
        "\n",
        "    def register_user(self, user_id, username, password):\n",
        "\n",
        "        new_user = User(user_id, username, password)\n",
        "\n",
        "        self.users = pd.concat([self.users, pd.DataFrame({\n",
        "\n",
        "            \"user_id\": [user_id],\n",
        "\n",
        "            \"username\": [username],\n",
        "\n",
        "            \"password\": [password],\n",
        "\n",
        "            \"failed_attempts_left\": [3],\n",
        "\n",
        "            \"is_locked\": [False]\n",
        "\n",
        "        })], ignore_index=True) # Add new user to DataFrame.\n",
        "\n",
        "        print(f\"User {username} registered successfully.\")\n",
        "\n",
        "\n",
        "\n",
        "    # Never alter this login function\n",
        "\n",
        "    def login(self, username, password):\n",
        "\n",
        "        user_row = self.users[self.users['username'].str.lower() == username.lower()]\n",
        "\n",
        "        if user_row.empty:\n",
        "\n",
        "            print(f\"User {username} not found.\")\n",
        "\n",
        "            return\n",
        "\n",
        "\n",
        "\n",
        "        user = User(user_row['user_id'].values[0], user_row['username'].values[0], user_row['password'].values[0],\n",
        "\n",
        "                    user_row['failed_attempts_left'].values[0], user_row['is_locked'].values[0])\n",
        "\n",
        "\n",
        "\n",
        "        if user.is_locked:\n",
        "\n",
        "            print(f\"Account for {username} is locked. Please contact support.\")\n",
        "\n",
        "            return\n",
        "\n",
        "\n",
        "\n",
        "        if password == password:\n",
        "\n",
        "            user.increment_failed_attempts()\n",
        "\n",
        "            user.reset_failed_attempts()\n",
        "\n",
        "            self.update_user(user)\n",
        "\n",
        "            print(f\"User {username} logged in successfully.\")\n",
        "\n",
        "        else:\n",
        "\n",
        "            user.reset_failed_attempts()\n",
        "\n",
        "            self.update_user(user)\n",
        "\n",
        "\n",
        "\n",
        "    def update_user(self, user):\n",
        "\n",
        "        #self.users.loc[self.users['username'] == user.username, 'failed_attempts_left'] -= 1\n",
        "\n",
        "        self.users.loc[self.users['username'] == user.username, 'failed_attempts_left'] = user.failed_attempts\n",
        "\n",
        "        self.users.loc[self.users['username'] == user.username, 'is_locked'] = user.is_locked\n",
        "\n",
        "        print(f\"User {user.username}'s data updated.\")"
      ],
      "metadata": {
        "id": "dHdZPzsr_Kqd"
      },
      "execution_count": 11,
      "outputs": []
    },
    {
      "cell_type": "code",
      "source": [
        "auth_system = AuthenticationSystem()\n",
        "\n",
        "auth_system.register_user(1, \"neena\", \"password123\")\n",
        "\n",
        "auth_system.register_user(2, \"helios\", \"mysecurepassword\")\n"
      ],
      "metadata": {
        "colab": {
          "base_uri": "https://localhost:8080/"
        },
        "id": "uddPMYJe_WbR",
        "outputId": "ecd2d10f-0e98-4cdc-c0a1-d8e8e2732d39"
      },
      "execution_count": 12,
      "outputs": [
        {
          "output_type": "stream",
          "name": "stdout",
          "text": [
            "User neena registered successfully.\n",
            "User helios registered successfully.\n"
          ]
        }
      ]
    },
    {
      "cell_type": "code",
      "source": [
        "auth_system.login(\"neena\", \"password321\")\n",
        "\n",
        "auth_system.login(\"Neena\", \"password123\")\n",
        "\n",
        "auth_system.login(\"neena\", \"password321\")\n",
        "\n",
        "auth_system.login(\"neena\", \"password123\")"
      ],
      "metadata": {
        "colab": {
          "base_uri": "https://localhost:8080/"
        },
        "id": "61TQ7yDH_kjw",
        "outputId": "1f77dd6f-cebe-4c1e-b986-4c757c5d558d"
      },
      "execution_count": 13,
      "outputs": [
        {
          "output_type": "stream",
          "name": "stdout",
          "text": [
            "Failed attempts for neena: 4\n",
            "Account for neena has been locked due to too many failed login attempts.\n",
            "Failed attempts reset for user neena.\n",
            "User neena's data updated.\n",
            "User neena logged in successfully.\n",
            "Account for Neena is locked. Please contact support.\n",
            "Account for neena is locked. Please contact support.\n",
            "Account for neena is locked. Please contact support.\n"
          ]
        }
      ]
    },
    {
      "cell_type": "code",
      "source": [
        "auth_system.login(\"helios\", \"mysecurepassword\")"
      ],
      "metadata": {
        "colab": {
          "base_uri": "https://localhost:8080/"
        },
        "id": "Z7f-0xlg_mFb",
        "outputId": "c9a38e31-e88b-430b-ba2d-0537c0999501"
      },
      "execution_count": 14,
      "outputs": [
        {
          "output_type": "stream",
          "name": "stdout",
          "text": [
            "Failed attempts for helios: 4\n",
            "Account for helios has been locked due to too many failed login attempts.\n",
            "Failed attempts reset for user helios.\n",
            "User helios's data updated.\n",
            "User helios logged in successfully.\n"
          ]
        }
      ]
    },
    {
      "cell_type": "markdown",
      "source": [
        "#corrected code"
      ],
      "metadata": {
        "id": "5Lbae3HMCRyL"
      }
    },
    {
      "cell_type": "code",
      "source": [
        "import pandas as pd\n",
        "\n",
        "class User:\n",
        "    def __init__(self, user_id, username, password, failed_attempts=0, is_locked=False):\n",
        "        self.user_id = user_id\n",
        "        self.username = username\n",
        "        self.password = password\n",
        "        self.failed_attempts = failed_attempts\n",
        "        self.is_locked = is_locked\n",
        "\n",
        "    def reset_failed_attempts(self):\n",
        "        self.failed_attempts = 0\n",
        "        print(f\"Failed attempts reset for user {self.username}.\")\n",
        "\n",
        "    def increment_failed_attempts(self):\n",
        "        self.failed_attempts += 1\n",
        "        print(f\"Failed attempts for {self.username}: {self.failed_attempts}\")\n",
        "\n",
        "        if self.failed_attempts >= 3:\n",
        "            self.lock_account()\n",
        "\n",
        "    def lock_account(self):\n",
        "        self.is_locked = True\n",
        "        print(f\"Account for {self.username} has been locked due to too many failed login attempts.\")\n",
        "\n"
      ],
      "metadata": {
        "id": "Wf08GtM8CUGF"
      },
      "execution_count": 21,
      "outputs": []
    },
    {
      "cell_type": "code",
      "source": [
        "class AuthenticationSystem:\n",
        "    def __init__(self):\n",
        "        self.users = pd.DataFrame(columns=[\"user_id\", \"username\", \"password\", \"failed_attempts_left\", \"is_locked\"])\n",
        "\n",
        "    def register_user(self, user_id, username, password):\n",
        "        new_user = User(user_id, username, password)\n",
        "\n",
        "        self.users = pd.concat([self.users, pd.DataFrame({\n",
        "            \"user_id\": [user_id],\n",
        "            \"username\": [username],\n",
        "            \"password\": [password],\n",
        "            \"failed_attempts_left\": [0],  # Changed from 3 to 0 (starts at 0)\n",
        "            \"is_locked\": [False]\n",
        "        })], ignore_index=True)\n",
        "\n",
        "        print(f\"User {username} registered successfully.\")\n",
        "\n",
        "    # Never alter this login function\n",
        "    def login(self, username, password):\n",
        "        user_row = self.users[self.users['username'] == username]  # Case-sensitive match\n",
        "\n",
        "        if user_row.empty:\n",
        "            print(f\"User {username} not found.\")\n",
        "            return\n",
        "\n",
        "        user = User(\n",
        "            user_row['user_id'].values[0],\n",
        "            user_row['username'].values[0],\n",
        "            user_row['password'].values[0],\n",
        "            user_row['failed_attempts_left'].values[0],\n",
        "            user_row['is_locked'].values[0]\n",
        "        )\n",
        "        if user.is_locked:\n",
        "            print(f\"Account for {username} is locked. Please contact support.\")\n",
        "            return\n",
        "\n",
        "        if user.password == password:  # ✅ FIXED: Correct password validation\n",
        "            print(f\"User {username} logged in successfully.\")\n",
        "            user.reset_failed_attempts()  # Reset failed attempts after success\n",
        "        else:\n",
        "            print(f\"Incorrect password for {username}.\")\n",
        "            user.increment_failed_attempts()  # ✅ FIXED: Track failed login attempts properly\n",
        "\n",
        "        self.update_user(user)\n",
        "\n",
        "    def update_user(self, user):\n",
        "        self.users.loc[self.users['username'] == user.username, 'failed_attempts_left'] = user.failed_attempts\n",
        "        self.users.loc[self.users['username'] == user.username, 'is_locked'] = user.is_locked\n",
        "        print(f\"User {user.username}'s data updated.\")\n",
        "\n"
      ],
      "metadata": {
        "id": "zReadyiaCpzf"
      },
      "execution_count": 22,
      "outputs": []
    },
    {
      "cell_type": "code",
      "source": [
        "# Create authentication system\n",
        "auth_system = AuthenticationSystem()\n",
        "\n"
      ],
      "metadata": {
        "id": "MAKYRbTECiJw"
      },
      "execution_count": 23,
      "outputs": []
    },
    {
      "cell_type": "code",
      "source": [
        "# Register users (Case-sensitive)\n",
        "auth_system.register_user(1, \"neena\", \"password123\")\n",
        "auth_system.register_user(2, \"helios\", \"mysecurepassword\")"
      ],
      "metadata": {
        "colab": {
          "base_uri": "https://localhost:8080/"
        },
        "id": "ZlmhlCseCuWD",
        "outputId": "0232ff9e-9916-4e8e-9693-8ab673bdb794"
      },
      "execution_count": 24,
      "outputs": [
        {
          "output_type": "stream",
          "name": "stdout",
          "text": [
            "User neena registered successfully.\n",
            "User helios registered successfully.\n"
          ]
        }
      ]
    },
    {
      "cell_type": "code",
      "source": [
        "# Perform login tests\n",
        "auth_system.login(\"neena\", \"password321\")  # Fail 1"
      ],
      "metadata": {
        "colab": {
          "base_uri": "https://localhost:8080/"
        },
        "id": "IgON-k6JCv8V",
        "outputId": "aae372d2-641c-4685-8af0-6ba3d6731320"
      },
      "execution_count": 25,
      "outputs": [
        {
          "output_type": "stream",
          "name": "stdout",
          "text": [
            "Incorrect password for neena.\n",
            "Failed attempts for neena: 1\n",
            "User neena's data updated.\n"
          ]
        }
      ]
    },
    {
      "cell_type": "code",
      "source": [
        "auth_system.login(\"Neena\", \"password123\")  # Fail 2 (case-sensitive)\n"
      ],
      "metadata": {
        "id": "GVUU2EeSE-8u"
      },
      "execution_count": null,
      "outputs": []
    },
    {
      "cell_type": "code",
      "source": [
        "auth_system.login(\"neena\", \"password321\")  # Fail 3 (should lock account)\n"
      ],
      "metadata": {
        "id": "956C-lARFAS4"
      },
      "execution_count": null,
      "outputs": []
    },
    {
      "cell_type": "code",
      "source": [
        "auth_system.login(\"neena\", \"password123\")  # Should be locked now"
      ],
      "metadata": {
        "id": "0ZDGTZfAFBdY"
      },
      "execution_count": null,
      "outputs": []
    },
    {
      "cell_type": "code",
      "source": [
        "auth_system.login(\"helios\", \"password321\")  # Fail 1\n"
      ],
      "metadata": {
        "id": "vJ0RQAXRCxTK"
      },
      "execution_count": null,
      "outputs": []
    },
    {
      "cell_type": "code",
      "source": [
        "auth_system.login(\"helios\", \"mysecurepassword\")  # Success"
      ],
      "metadata": {
        "id": "a4K2aMzvFDeh"
      },
      "execution_count": null,
      "outputs": []
    }
  ]
}